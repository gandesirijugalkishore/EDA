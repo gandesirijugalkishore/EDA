{
  "nbformat": 4,
  "nbformat_minor": 0,
  "metadata": {
    "colab": {
      "provenance": [],
      "authorship_tag": "ABX9TyOK+e8QvByHjAK2hGAF+ctb",
      "include_colab_link": true
    },
    "kernelspec": {
      "name": "python3",
      "display_name": "Python 3"
    },
    "language_info": {
      "name": "python"
    }
  },
  "cells": [
    {
      "cell_type": "markdown",
      "metadata": {
        "id": "view-in-github",
        "colab_type": "text"
      },
      "source": [
        "<a href=\"https://colab.research.google.com/github/gandesirijugalkishore/EDA/blob/master/vertex_ai_custom_job_mode.ipynb\" target=\"_parent\"><img src=\"https://colab.research.google.com/assets/colab-badge.svg\" alt=\"Open In Colab\"/></a>"
      ]
    },
    {
      "cell_type": "code",
      "execution_count": 3,
      "metadata": {
        "colab": {
          "base_uri": "https://localhost:8080/"
        },
        "id": "GY-rPtRoq5cb",
        "outputId": "efd525ea-f36b-459c-b292-b99ec68ff568"
      },
      "outputs": [
        {
          "output_type": "stream",
          "name": "stdout",
          "text": [
            "Model Accuracy: 0.5\n",
            "Predicted Machine Type for Data Capacity 220: n1-standard-8\n"
          ]
        },
        {
          "output_type": "stream",
          "name": "stderr",
          "text": [
            "/usr/local/lib/python3.10/dist-packages/sklearn/base.py:439: UserWarning: X does not have valid feature names, but RandomForestClassifier was fitted with feature names\n",
            "  warnings.warn(\n"
          ]
        }
      ],
      "source": [
        "# Import necessary libraries\n",
        "import pandas as pd\n",
        "from sklearn.model_selection import train_test_split\n",
        "from sklearn.ensemble import RandomForestClassifier\n",
        "from sklearn.metrics import accuracy_score\n",
        "from sklearn.preprocessing import LabelEncoder\n",
        "\n",
        "# Sample data (replace this with your own dataset)\n",
        "data = {\n",
        "    'DataCapacity': [1, 2, 150, 30 ,25, 18],\n",
        "    'OptimalMachineType': ['n1-standard-8', 'n1-standard-16', 'n1-standard-8', 'n1-standard-16', 'n1-standard-16', 'n1-standard-8']\n",
        "}\n",
        "\n",
        "# Create a DataFrame\n",
        "df = pd.DataFrame(data)\n",
        "\n",
        "# Encode categorical labels\n",
        "label_encoder = LabelEncoder()\n",
        "df['OptimalMachineType'] = label_encoder.fit_transform(df['OptimalMachineType'])\n",
        "\n",
        "# Split the data into features (X) and target variable (y)\n",
        "X = df[['DataCapacity']]\n",
        "y = df['OptimalMachineType']\n",
        "\n",
        "# Split the data into training and testing sets\n",
        "X_train, X_test, y_train, y_test = train_test_split(X, y, test_size=0.2, random_state=42)\n",
        "\n",
        "# Create a RandomForestClassifier model\n",
        "model = RandomForestClassifier()\n",
        "\n",
        "# Train the model\n",
        "model.fit(X_train, y_train)\n",
        "\n",
        "# Make predictions\n",
        "predictions = model.predict(X_test)\n",
        "\n",
        "# Evaluate the model\n",
        "accuracy = accuracy_score(y_test, predictions)\n",
        "print(f'Model Accuracy: {accuracy}')\n",
        "\n",
        "# Example usage to predict machine type for a new data capacity\n",
        "new_data_capacity = [[220]]\n",
        "predicted_machine_type = label_encoder.inverse_transform(model.predict(new_data_capacity))\n",
        "print(f'Predicted Machine Type for Data Capacity {new_data_capacity[0][0]}: {predicted_machine_type[0]}')\n"
      ]
    },
    {
      "cell_type": "code",
      "source": [
        "data_capacity_values = {\n",
        "    'data_capacity_values': [1, 2, 150]}\n",
        "\n",
        "df_cap = pd.DataFrame(data_capacity_values)"
      ],
      "metadata": {
        "id": "wudkhVrGq7rW"
      },
      "execution_count": 5,
      "outputs": []
    },
    {
      "cell_type": "code",
      "source": [
        "predictions = model.predict(X_test)\n"
      ],
      "metadata": {
        "id": "TwKg1tEErcY6"
      },
      "execution_count": 6,
      "outputs": []
    },
    {
      "cell_type": "code",
      "source": [
        "# Example usage to predict machine type for a new data capacity (500)\n",
        "new_data_capacity = [[900]]\n",
        "predicted_machine_type = label_encoder.inverse_transform(model.predict(new_data_capacity))\n",
        "print(f'Predicted Machine Type for Data Capacity {new_data_capacity[0][0]}: {predicted_machine_type[0]}')\n"
      ],
      "metadata": {
        "colab": {
          "base_uri": "https://localhost:8080/"
        },
        "id": "Ynp5e-v5rzQu",
        "outputId": "831b30ab-a562-41a5-dd20-142fb5a8b068"
      },
      "execution_count": 9,
      "outputs": [
        {
          "output_type": "stream",
          "name": "stdout",
          "text": [
            "Predicted Machine Type for Data Capacity 900: n1-standard-8\n"
          ]
        },
        {
          "output_type": "stream",
          "name": "stderr",
          "text": [
            "/usr/local/lib/python3.10/dist-packages/sklearn/base.py:439: UserWarning: X does not have valid feature names, but RandomForestClassifier was fitted with feature names\n",
            "  warnings.warn(\n"
          ]
        }
      ]
    },
    {
      "cell_type": "code",
      "source": [],
      "metadata": {
        "id": "li9DHEFftLo1"
      },
      "execution_count": null,
      "outputs": []
    }
  ]
}